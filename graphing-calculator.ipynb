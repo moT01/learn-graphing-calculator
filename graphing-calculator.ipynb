{
  "nbformat": 4,
  "nbformat_minor": 0,
  "metadata": {
    "colab": {
      "name": "Foundational Math 2 (Project).ipynb",
      "provenance": [],
      "collapsed_sections": []
    },
    "kernelspec": {
      "name": "python3",
      "display_name": "Python 3"
    },
    "language_info": {
      "name": "python"
    }
  },
  "cells": [
    {
      "cell_type": "markdown",
      "metadata": {
        "id": "_rwoIGocM26g"
      },
      "source": [
        "**Foundational Math - Certification Project 2**<br>\n",
        "Build a graphing calculator that does the following:\n",
        "<ul>\n",
        "<li>Displays the graph and a table of values for any \"y=\" equation input</li>\n",
        "<li>If graphing two equations, determine the point of intersection</li>\n",
        "<li>Given a, b and c in a quadratic equation, graph the roots and vertex</li>\n",
        "</ul>"
      ]
    },
    {
      "cell_type": "code",
      "metadata": {
        "id": "_R1nZHw9M1_b"
      },
      "source": [
        "# Write your code here\n"
      ],
      "execution_count": null,
      "outputs": []
    }
  ]
}